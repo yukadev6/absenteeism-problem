{
 "cells": [
  {
   "cell_type": "code",
   "execution_count": null,
   "id": "370b24d5",
   "metadata": {},
   "outputs": [],
   "source": [
    "import pandas as pd"
   ]
  },
  {
   "cell_type": "code",
   "execution_count": null,
   "id": "6bec6e55",
   "metadata": {},
   "outputs": [],
   "source": [
    "raw_csv_data = pd.read_csv(\"Absenteeism_data.csv\")"
   ]
  },
  {
   "cell_type": "code",
   "execution_count": null,
   "id": "9b1dbf57",
   "metadata": {},
   "outputs": [],
   "source": [
    "raw_csv_data"
   ]
  },
  {
   "cell_type": "code",
   "execution_count": null,
   "id": "c35e9a3a",
   "metadata": {},
   "outputs": [],
   "source": [
    "df = raw_csv_data.copy()"
   ]
  },
  {
   "cell_type": "code",
   "execution_count": null,
   "id": "8b882da9",
   "metadata": {},
   "outputs": [],
   "source": [
    "df"
   ]
  },
  {
   "cell_type": "code",
   "execution_count": null,
   "id": "6e32d11b",
   "metadata": {},
   "outputs": [],
   "source": [
    "pd.options.display.max_columns = None\n",
    "pd.options.display.max_rows = None"
   ]
  },
  {
   "cell_type": "code",
   "execution_count": null,
   "id": "0a83099c",
   "metadata": {},
   "outputs": [],
   "source": [
    "display(df)"
   ]
  },
  {
   "cell_type": "code",
   "execution_count": null,
   "id": "7abba1b7",
   "metadata": {},
   "outputs": [],
   "source": [
    "df.info()"
   ]
  },
  {
   "cell_type": "code",
   "execution_count": null,
   "id": "f582dc5d",
   "metadata": {},
   "outputs": [],
   "source": [
    "df = df.drop(['ID'], axis=1)"
   ]
  },
  {
   "cell_type": "code",
   "execution_count": null,
   "id": "87d58f07",
   "metadata": {},
   "outputs": [],
   "source": [
    "df"
   ]
  },
  {
   "cell_type": "code",
   "execution_count": null,
   "id": "8cb55988",
   "metadata": {},
   "outputs": [],
   "source": [
    "df['Reason for Absence'].min()"
   ]
  },
  {
   "cell_type": "code",
   "execution_count": null,
   "id": "3c30c59a",
   "metadata": {},
   "outputs": [],
   "source": [
    "df['Reason for Absence'].max()"
   ]
  },
  {
   "cell_type": "code",
   "execution_count": null,
   "id": "1e3399cc",
   "metadata": {},
   "outputs": [],
   "source": [
    "len(df['Reason for Absence'].unique())"
   ]
  },
  {
   "cell_type": "code",
   "execution_count": null,
   "id": "700c4a0a",
   "metadata": {},
   "outputs": [],
   "source": [
    "sorted(df['Reason for Absence'].unique())"
   ]
  },
  {
   "cell_type": "code",
   "execution_count": null,
   "id": "9f40d51d",
   "metadata": {},
   "outputs": [],
   "source": [
    "reason_columns = pd.get_dummies(df['Reason for Absence'])\n",
    "reason_columns"
   ]
  },
  {
   "cell_type": "code",
   "execution_count": null,
   "id": "1a808d6c",
   "metadata": {},
   "outputs": [],
   "source": [
    "reason_columns['check'] = reason_columns.sum(axis=1)\n",
    "reason_columns"
   ]
  },
  {
   "cell_type": "code",
   "execution_count": null,
   "id": "235c0863",
   "metadata": {},
   "outputs": [],
   "source": [
    "reason_columns['check'].sum(axis=0)"
   ]
  },
  {
   "cell_type": "code",
   "execution_count": null,
   "id": "8dbbd7c9",
   "metadata": {},
   "outputs": [],
   "source": [
    "reason_columns['check'].unique()"
   ]
  },
  {
   "cell_type": "code",
   "execution_count": null,
   "id": "8250b7d8",
   "metadata": {},
   "outputs": [],
   "source": [
    "reason_columns = reason_columns.drop(['check'], axis=1)\n",
    "reason_columns"
   ]
  },
  {
   "cell_type": "code",
   "execution_count": null,
   "id": "521b8f94",
   "metadata": {},
   "outputs": [],
   "source": [
    "reason_columns = pd.get_dummies(df['Reason for Absence'], drop_first = True)\n",
    "reason_columns"
   ]
  },
  {
   "cell_type": "code",
   "execution_count": null,
   "id": "91fd53c7",
   "metadata": {},
   "outputs": [],
   "source": [
    "df = df.drop(['Reason for Absence'], axis=1)\n",
    "df"
   ]
  },
  {
   "cell_type": "code",
   "execution_count": null,
   "id": "7033bdf6",
   "metadata": {},
   "outputs": [],
   "source": [
    "reason_type_1 = reason_columns.loc[:, 1:14].max(axis=1)\n",
    "reason_type_2 = reason_columns.loc[:, 15:17].max(axis=1)\n",
    "reason_type_3 = reason_columns.loc[:, 18:21].max(axis=1)\n",
    "reason_type_4 = reason_columns.loc[:, 22:].max(axis=1)"
   ]
  },
  {
   "cell_type": "code",
   "execution_count": null,
   "id": "8ffd0dff",
   "metadata": {},
   "outputs": [],
   "source": [
    "df = pd.concat([df, reason_type_1, reason_type_2, reason_type_3, reason_type_4],axis=1)\n",
    "df"
   ]
  },
  {
   "cell_type": "code",
   "execution_count": null,
   "id": "904c38d2",
   "metadata": {},
   "outputs": [],
   "source": [
    "df.columns.values"
   ]
  },
  {
   "cell_type": "code",
   "execution_count": null,
   "id": "269623da",
   "metadata": {},
   "outputs": [],
   "source": [
    "column_names_reordered = [ 'Reason_1', 'Reason_2', 'Reason_3', 'Reason_4', 'Date', 'Transportation Expense',\n",
    "                          'Distance to Work', 'Age', 'Daily Work Load Average', 'Body Mass Index', 'Education',\n",
    "                          'Children', 'Pets', 'Absenteeism Time in Hours']"
   ]
  },
  {
   "cell_type": "code",
   "execution_count": null,
   "id": "79a8981f",
   "metadata": {},
   "outputs": [],
   "source": [
    "df.columns = column_names_reordered\n",
    "df = df[column_names_reordered]"
   ]
  },
  {
   "cell_type": "code",
   "execution_count": null,
   "id": "447d6ea2",
   "metadata": {},
   "outputs": [],
   "source": [
    "df.head()"
   ]
  },
  {
   "cell_type": "code",
   "execution_count": null,
   "id": "73887a9a",
   "metadata": {},
   "outputs": [],
   "source": [
    "df_reason_mod = df.copy()\n",
    "df_reason_mod"
   ]
  },
  {
   "cell_type": "code",
   "execution_count": null,
   "id": "59e2ac52",
   "metadata": {},
   "outputs": [],
   "source": [
    "type(df_reason_mod['Date'])"
   ]
  },
  {
   "cell_type": "code",
   "execution_count": null,
   "id": "b3d99252",
   "metadata": {},
   "outputs": [],
   "source": [
    "type(df_reason_mod['Date'][0])"
   ]
  },
  {
   "cell_type": "code",
   "execution_count": null,
   "id": "469ab4c3",
   "metadata": {},
   "outputs": [],
   "source": [
    "df_reason_mod['Date'] = pd.to_datetime(df_reason_mod['Date'], format = '%d/%m/%Y', errors='coerce')\n",
    "df_reason_mod['Date']"
   ]
  },
  {
   "cell_type": "code",
   "execution_count": null,
   "id": "895f12e5",
   "metadata": {},
   "outputs": [],
   "source": [
    "list_months = []\n",
    "list_months"
   ]
  },
  {
   "cell_type": "code",
   "execution_count": null,
   "id": "ec9e32e1",
   "metadata": {},
   "outputs": [],
   "source": [
    "for i in range(df_reason_mod.shape[0]):\n",
    "    list_months.append(df_reason_mod['Date'][i].month)\n",
    "list_months"
   ]
  },
  {
   "cell_type": "code",
   "execution_count": null,
   "id": "a738b377",
   "metadata": {},
   "outputs": [],
   "source": [
    "len(list_months)"
   ]
  },
  {
   "cell_type": "code",
   "execution_count": null,
   "id": "e4cdded7",
   "metadata": {},
   "outputs": [],
   "source": [
    "df_reason_mod['Month Value'] = list_months\n",
    "df_reason_mod.head(20)"
   ]
  },
  {
   "cell_type": "code",
   "execution_count": null,
   "id": "b7ae9208",
   "metadata": {},
   "outputs": [],
   "source": [
    "def date_to_weekday(date_value):\n",
    "    return date_value.weekday()"
   ]
  },
  {
   "cell_type": "code",
   "execution_count": null,
   "id": "3af36c83",
   "metadata": {},
   "outputs": [],
   "source": [
    "df_reason_mod['Day of the Week'] = df_reason_mod['Date'].apply(date_to_weekday)\n",
    "df_reason_mod.head()"
   ]
  },
  {
   "cell_type": "code",
   "execution_count": null,
   "id": "57a4c8ee",
   "metadata": {},
   "outputs": [],
   "source": [
    "df_reason_mod = df_reason_mod.drop(['Date'], axis=1)\n",
    "df_reason_mod"
   ]
  },
  {
   "cell_type": "code",
   "execution_count": null,
   "id": "efda8163",
   "metadata": {},
   "outputs": [],
   "source": [
    "df_reason_mod.columns.values"
   ]
  },
  {
   "cell_type": "code",
   "execution_count": null,
   "id": "6278f70d",
   "metadata": {},
   "outputs": [],
   "source": [
    "column_names_upd = ['Reason_1', 'Reason_2', 'Reason_3', 'Reason_4', 'Month Value', 'Day of the Week', \n",
    "                     'Transportation Expense', 'Distance to Work', 'Age', 'Daily Work Load Average', \n",
    "                     'Body Mass Index', 'Education', 'Children', 'Pets', 'Absenteeism Time in Hours']"
   ]
  },
  {
   "cell_type": "code",
   "execution_count": null,
   "id": "1ed34565",
   "metadata": {},
   "outputs": [],
   "source": [
    "df_reason_mod = df_reason_mod[column_names_upd]"
   ]
  },
  {
   "cell_type": "code",
   "execution_count": null,
   "id": "75608aba",
   "metadata": {},
   "outputs": [],
   "source": [
    "df_reason_mod.head()"
   ]
  },
  {
   "cell_type": "code",
   "execution_count": null,
   "id": "a6f0fec9",
   "metadata": {},
   "outputs": [],
   "source": [
    "df_reason_date_mod = df_reason_mod.copy()"
   ]
  },
  {
   "cell_type": "code",
   "execution_count": null,
   "id": "bb347fc4",
   "metadata": {},
   "outputs": [],
   "source": [
    "df_reason_date_mod"
   ]
  },
  {
   "cell_type": "code",
   "execution_count": null,
   "id": "087dfc37",
   "metadata": {},
   "outputs": [],
   "source": [
    "df_reason_date_mod['Education'].unique()"
   ]
  },
  {
   "cell_type": "code",
   "execution_count": null,
   "id": "11755b92",
   "metadata": {},
   "outputs": [],
   "source": [
    "df_reason_date_mod['Education'].value_counts()"
   ]
  },
  {
   "cell_type": "code",
   "execution_count": null,
   "id": "5f768c8e",
   "metadata": {},
   "outputs": [],
   "source": [
    "df_reason_date_mod['Education'] = df_reason_date_mod['Education'].map({1:0, 2:1, 3:1, 4:1})"
   ]
  },
  {
   "cell_type": "code",
   "execution_count": null,
   "id": "c50f83f0",
   "metadata": {},
   "outputs": [],
   "source": [
    "df_reason_date_mod['Education'].unique()"
   ]
  },
  {
   "cell_type": "code",
   "execution_count": null,
   "id": "198dd7b9",
   "metadata": {},
   "outputs": [],
   "source": [
    "df_reason_date_mod['Education'].value_counts()"
   ]
  },
  {
   "cell_type": "code",
   "execution_count": null,
   "id": "6b0c5c4f",
   "metadata": {},
   "outputs": [],
   "source": [
    "df_preprocessed = df_reason_date_mod.copy()\n",
    "df_preprocessed.head(10)"
   ]
  },
  {
   "cell_type": "code",
   "execution_count": null,
   "id": "8f83146f",
   "metadata": {},
   "outputs": [],
   "source": [
    "df_preprocessed.to_csv('Absenteeism_preprocessed.csv', index=False)"
   ]
  }
 ],
 "metadata": {
  "kernelspec": {
   "display_name": "py3TF2.0",
   "language": "python",
   "name": "py3tf2.0"
  },
  "language_info": {
   "codemirror_mode": {
    "name": "ipython",
    "version": 3
   },
   "file_extension": ".py",
   "mimetype": "text/x-python",
   "name": "python",
   "nbconvert_exporter": "python",
   "pygments_lexer": "ipython3",
   "version": "3.7.10"
  }
 },
 "nbformat": 4,
 "nbformat_minor": 5
}
